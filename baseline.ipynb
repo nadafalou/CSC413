{
 "cells": [
  {
   "cell_type": "code",
   "execution_count": 1,
   "metadata": {},
   "outputs": [],
   "source": [
    "import csv\n",
    "import numpy as np "
   ]
  },
  {
   "cell_type": "code",
   "execution_count": 2,
   "metadata": {},
   "outputs": [],
   "source": [
    "# get the data\n",
    "tweets_xtrain = []\n",
    "tweets_ytrain = []\n",
    "with open('data/Constraint_Train.csv', newline='', encoding='utf-8') as csvfile:\n",
    "    spamreader = csv.reader(csvfile, delimiter=',', quotechar='\"')\n",
    "    for row in spamreader:\n",
    "        words = row[1].split()\n",
    "        sentence = [word.lower() for word in words]\n",
    "        tweets_xtrain.append(sentence)\n",
    "        tweets_ytrain.append(row[2])\n",
    "tweets_xtrain = tweets_xtrain[1:]\n",
    "\n",
    "# get validation set\n",
    "tweets_xval = []\n",
    "tweets_yval = []\n",
    "with open('data/Constraint_Val.csv', newline='', encoding='utf-8') as csvfile:\n",
    "    spamreader = csv.reader(csvfile, delimiter=',', quotechar='\"')\n",
    "    for row in spamreader:\n",
    "        words = row[1].split()\n",
    "        sentence = [word.lower() for word in words]\n",
    "        tweets_xval.append(sentence)\n",
    "        tweets_yval.append(row[2])\n",
    "tweets_xval = tweets_xval[1:]"
   ]
  },
  {
   "cell_type": "code",
   "execution_count": 3,
   "metadata": {},
   "outputs": [],
   "source": [
    "label = ('fake', 'real')\n",
    "occurances = {}\n",
    "\n",
    "for data in (tweets_xtrain, tweets_xval):\n",
    "    for tweet in range(len(data)):\n",
    "        for word in tweets_xtrain[tweet]:\n",
    "            if occurances.get(word) is None:\n",
    "                occurances[word] = [0, 0]\n",
    "\n",
    "            if tweets_ytrain[tweet] == label[0]:\n",
    "                occurances[word][0] += 1\n",
    "            else:\n",
    "                occurances[word][1] += 1"
   ]
  },
  {
   "cell_type": "code",
   "execution_count": 4,
   "metadata": {},
   "outputs": [],
   "source": [
    "def predict(tweet):\n",
    "    sum_prob_fake = 0\n",
    "    count = 0\n",
    "    for word in tweet:\n",
    "        if occurances.get(word) is not None:\n",
    "            sum_prob_fake += occurances[word][0] / (occurances[word][1] + occurances[word][0])\n",
    "            count += 1\n",
    "    prob_fake = sum_prob_fake / count\n",
    "    return prob_fake, 1 - prob_fake \n",
    "\n",
    "def predict_all(xdata, ydata):\n",
    "    correct_preds = 0\n",
    "    for tweet in range(len(xdata)):\n",
    "        pred = predict(xdata[tweet])\n",
    "        if label[np.argmax(np.array(pred))] == ydata[tweet]:\n",
    "            correct_preds += 1\n",
    "    accuracy = correct_preds / len(xdata)\n",
    "    return accuracy"
   ]
  },
  {
   "cell_type": "code",
   "execution_count": 5,
   "metadata": {},
   "outputs": [
    {
     "name": "stdout",
     "output_type": "stream",
     "text": [
      "0.8141355140186916\n"
     ]
    }
   ],
   "source": [
    "# try predicting train set, print its accuracy\n",
    "print(predict_all(tweets_xtrain + tweets_xval, tweets_ytrain + tweets_yval))"
   ]
  },
  {
   "cell_type": "code",
   "execution_count": 6,
   "metadata": {},
   "outputs": [
    {
     "name": "stdout",
     "output_type": "stream",
     "text": [
      "0.5093457943925234\n"
     ]
    }
   ],
   "source": [
    "# same thing but on test set -- we expect similar accuracy as validation because we did not have/tweak hyperparameters\n",
    "tweets_xtest = []\n",
    "tweets_ytest = []\n",
    "with open('data/english_test_with_labels.csv', newline='', encoding='utf-8') as csvfile:\n",
    "    spamreader = csv.reader(csvfile, delimiter=',', quotechar='\"')\n",
    "    for row in spamreader:\n",
    "        words = row[1].split()\n",
    "        sentence = [word.lower() for word in words]\n",
    "        tweets_xtest.append(sentence)\n",
    "        tweets_ytest.append(row[2])\n",
    "tweets_xtest = tweets_xtest[1:]\n",
    "\n",
    "print(predict_all(tweets_xtest, tweets_ytest))"
   ]
  },
  {
   "cell_type": "code",
   "execution_count": null,
   "metadata": {},
   "outputs": [],
   "source": []
  }
 ],
 "metadata": {
  "interpreter": {
   "hash": "b6f1dcafc216fe0e7145abfa0c12a0f6440d7d07f5623d18248d8eab1b6db710"
  },
  "kernelspec": {
   "display_name": "Python 3.8.11 ('csc311')",
   "language": "python",
   "name": "python3"
  },
  "language_info": {
   "codemirror_mode": {
    "name": "ipython",
    "version": 3
   },
   "file_extension": ".py",
   "mimetype": "text/x-python",
   "name": "python",
   "nbconvert_exporter": "python",
   "pygments_lexer": "ipython3",
   "version": "3.8.11"
  },
  "orig_nbformat": 4
 },
 "nbformat": 4,
 "nbformat_minor": 2
}
