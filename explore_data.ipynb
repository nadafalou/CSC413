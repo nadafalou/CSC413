{
 "cells": [
  {
   "cell_type": "code",
   "execution_count": 5,
   "metadata": {},
   "outputs": [
    {
     "name": "stdout",
     "output_type": "stream",
     "text": [
      "6421\n",
      "27140\n",
      "[['tweet'], ['the', 'cdc', 'currently', 'reports', '99031', 'deaths.', 'in', 'general', 'the', 'discrepancies', 'in', 'death', 'counts', 'between', 'different', 'sources', 'are', 'small', 'and', 'explicable.', 'the', 'death', 'toll', 'stands', 'at', 'roughly', '100000', 'people', 'today.'], ['states', 'reported', '1121', 'deaths', 'a', 'small', 'rise', 'from', 'last', 'tuesday.', 'southern', 'states', 'reported', '640', 'of', 'those', 'deaths.', 'https://t.co/yasgrtt4ux'], ['politically', 'correct', 'woman', '(almost)', 'uses', 'pandemic', 'as', 'excuse', 'not', 'to', 'reuse', 'plastic', 'bag', 'https://t.co/thf8gunfpe', '#coronavirus', '#nashville'], ['#indiafightscorona:', 'we', 'have', '1524', '#covid', 'testing', 'laboratories', 'in', 'india', 'and', 'as', 'on', '25th', 'august', '2020', '36827520', 'tests', 'have', 'been', 'done', ':', '@profbhargava', 'dg', '@icmrdelhi', '#staysafe', '#indiawillwin', 'https://t.co/yh3zxknnhz'], ['populous', 'states', 'can', 'generate', 'large', 'case', 'counts', 'but', 'if', 'you', 'look', 'at', 'the', 'new', 'cases', 'per', 'million', 'today', '9', 'smaller', 'states', 'are', 'showing', 'more', 'cases', 'per', 'million', 'than', 'california', 'or', 'texas:', 'al', 'ar', 'id', 'ks', 'ky', 'la', 'ms', 'nv', 'and', 'sc.', 'https://t.co/1pyw6cwras'], ['covid', 'act', 'now', 'found', '\"on', 'average', 'each', 'person', 'in', 'illinois', 'with', 'covid-19', 'is', 'infecting', '1.11', 'other', 'people.', 'data', 'shows', 'that', 'the', 'infection', 'growth', 'rate', 'has', 'declined', 'over', 'time', 'this', 'factors', 'in', 'the', 'stay-at-home', 'order', 'and', 'other', 'restrictions', 'put', 'in', 'place.\"', 'https://t.co/hhigdd24fe'], ['if', 'you', 'tested', 'positive', 'for', '#covid19', 'and', 'have', 'no', 'symptoms', 'stay', 'home', 'and', 'away', 'from', 'other', 'people.', 'learn', 'more', 'about', 'cdc’s', 'recommendations', 'about', 'when', 'you', 'can', 'be', 'around', 'others', 'after', 'covid-19', 'infection:', 'https://t.co/z5kkxpqkyb.', 'https://t.co/9pamy0rxaf'], ['obama', 'calls', 'trump’s', 'coronavirus', 'response', 'a', 'chaotic', 'disaster', 'https://t.co/dedqzehasb'], ['???clearly,', 'the', 'obama', 'administration', 'did', 'not', 'leave', 'any', 'kind', 'of', 'game', 'plan', 'for', 'something', 'like', 'this.??�']]\n",
      "Average sentence length in train: 26.996106525463322\n",
      "Number of unique words in train: 27140\n",
      "10 most common words in train: [('the', 6919), ('of', 4610), ('to', 4108), ('in', 3853), ('a', 3037), ('and', 2710), ('is', 2030), ('for', 1819), ('cases', 1505), ('are', 1496)]\n",
      "Total words in train: 173342\n"
     ]
    }
   ],
   "source": [
    "import csv\n",
    "import numpy as np \n",
    "\n",
    "sentences = []\n",
    "with open('data/Constraint_Train.csv', newline='', encoding='utf-8') as csvfile:\n",
    "    spamreader = csv.reader(csvfile, delimiter=',', quotechar='\"')\n",
    "    for row in spamreader:\n",
    "        words = row[1].split()\n",
    "        sentence = [word.lower() for word in words]\n",
    "        sentences.append(sentence)\n",
    "\n",
    "vocab = set([w for s in sentences for w in s])\n",
    "print(len(sentences)) # 97162\n",
    "print(len(vocab)) # 250\n",
    "\n",
    "train = sentences[:]\n",
    "\n",
    "print(train[:10])\n",
    "\n",
    "from collections import Counter\n",
    "\n",
    "lengths = [len(sentence) for sentence in train]\n",
    "print(\"Average sentence length in train:\", np.mean(lengths))\n",
    "words = [word for sentence in train for word in sentence]\n",
    "cnt = Counter(words)\n",
    "print(\"Number of unique words in train:\", len(cnt.keys()))\n",
    "print(\"10 most common words in train:\", cnt.most_common(10))\n",
    "tot = np.sum(list(cnt.values()))\n",
    "print(\"Total words in train:\", tot)"
   ]
  },
  {
   "cell_type": "code",
   "execution_count": null,
   "metadata": {},
   "outputs": [],
   "source": []
  }
 ],
 "metadata": {
  "interpreter": {
   "hash": "2be5faf79681da6f2a61fdfdd5405d65d042280f7fba6178067603e3a2925119"
  },
  "kernelspec": {
   "display_name": "Python 3.10.0 64-bit",
   "language": "python",
   "name": "python3"
  },
  "language_info": {
   "codemirror_mode": {
    "name": "ipython",
    "version": 3
   },
   "file_extension": ".py",
   "mimetype": "text/x-python",
   "name": "python",
   "nbconvert_exporter": "python",
   "pygments_lexer": "ipython3",
   "version": "3.9.7"
  },
  "orig_nbformat": 4
 },
 "nbformat": 4,
 "nbformat_minor": 2
}
